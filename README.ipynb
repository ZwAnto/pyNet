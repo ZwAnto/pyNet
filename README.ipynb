{
 "cells": [
  {
   "cell_type": "markdown",
   "metadata": {},
   "source": [
    "<img src='https://cdn0.iconfinder.com/data/icons/isometric-city-basic-transport/48/car-front-01-128.png' />"
   ]
  },
  {
   "cell_type": "markdown",
   "metadata": {},
   "source": [
    "# LINCOLN DataScience Challenge #2\n",
    "## CIFAR-10 - Image Recongnition"
   ]
  },
  {
   "cell_type": "markdown",
   "metadata": {},
   "source": [
    "# Content of the directory\n",
    "- **convNet** folder: it's a python package containing all the functions and class relative to the custom implementation of the CNN.\n",
    "- **MNIST** and **CIFAR-10** folders: contains the training datasets.\n",
    "- **ConvNet-MNIST.ipynb**: jupyter notebook that train a CNN using the custom implementation on the MNIST dataset.\n",
    "- **ResNet-CIFAR-10.ipynb**: jupyter notebook that train a Residual Network using Keras on the CIFAR-10 dataset."
   ]
  },
  {
   "cell_type": "markdown",
   "metadata": {},
   "source": [
    "# Module requirements\n",
    "For the custom implementation and the residual network\n",
    "- numpy\n",
    "- sklearn\n",
    "- pickle\n",
    "- matplotlib\n",
    "- time\n",
    "- scipy\n",
    "\n",
    "For the residual network\n",
    "- keras \n",
    "- tensorflow"
   ]
  },
  {
   "cell_type": "markdown",
   "metadata": {},
   "source": [
    "# Importing datasets\n",
    "### MNIST\n",
    "Place the 'train.csv' corresponding to the MNIST dataset in the 'MNIST' folder.\n",
    "### CIFAR-10\n",
    "Place the 'train' folder and the 'trainLabels.csv' containing the training image and labels in the 'CIFAR-10' folder."
   ]
  },
  {
   "cell_type": "markdown",
   "metadata": {},
   "source": [
    "# How to use the custom implementation of CNN\n",
    "To train a neural network using the custom implementation, you first need to load the **conv_net** class present in the **convNet.conv_net** module."
   ]
  },
  {
   "cell_type": "code",
   "execution_count": 3,
   "metadata": {},
   "outputs": [],
   "source": [
    "from convNet.conv_net import conv_net"
   ]
  },
  {
   "cell_type": "code",
   "execution_count": 4,
   "metadata": {},
   "outputs": [],
   "source": [
    "import convNet.conv_net"
   ]
  },
  {
   "cell_type": "markdown",
   "metadata": {},
   "source": [
    "Then you must initiate your model"
   ]
  },
  {
   "cell_type": "code",
   "execution_count": 5,
   "metadata": {},
   "outputs": [],
   "source": [
    "model = conv_net()"
   ]
  },
  {
   "cell_type": "markdown",
   "metadata": {},
   "source": [
    "Then set-up your CNN architecture using the different implemented layers"
   ]
  },
  {
   "cell_type": "code",
   "execution_count": null,
   "metadata": {},
   "outputs": [],
   "source": [
    "# Convolutionnal layer\n",
    "model.add_conv(padding, # number of pixel to add around the image (zero-padding),\n",
    "                        # not sure it actually works... keep it to 0\n",
    "               stride, \n",
    "               filter_size,\n",
    "               output_size)\n",
    "\n",
    "# Relu layer\n",
    "model.add_relu()\n",
    "\n",
    "# Batchnorm layer\n",
    "model.add_batchnorm()\n",
    "\n",
    "# Maxpool layer\n",
    "model.add_maxpool(filter_size)\n",
    "\n",
    "# Dropout layer\n",
    "model.add_dropout(p)\n",
    "\n",
    "# Fully connected layer\n",
    "model.add_fully(n)"
   ]
  },
  {
   "cell_type": "markdown",
   "metadata": {},
   "source": [
    "Finnaly compile your model and train it!"
   ]
  },
  {
   "cell_type": "code",
   "execution_count": null,
   "metadata": {},
   "outputs": [],
   "source": [
    "# X must be shapped like (N,WIDTH,HEIGHT,CHANNEL)\n",
    "# Y must be a numeric list of class (shape: (N))\n",
    "\n",
    "model.compile()\n",
    "model.train(train=(X,Y),\n",
    "            test=(X_test,Y_test),\n",
    "            b_size=100, # batch size\n",
    "            l_rate=0.001, # learning rate\n",
    "            n_epoch=20 # Epoch\n",
    "            )"
   ]
  },
  {
   "cell_type": "markdown",
   "metadata": {},
   "source": [
    "You can save and reload your model using this functions (base on pickle module)"
   ]
  },
  {
   "cell_type": "code",
   "execution_count": null,
   "metadata": {},
   "outputs": [],
   "source": [
    "import convNet.imfunc as imf\n",
    "\n",
    "# to make a backup\n",
    "imf.save_object(model, 'model_MNIST.pkl')\n",
    "\n",
    "# to reload a model\n",
    "model = imf.load_object('model_MNIST.pkl')"
   ]
  },
  {
   "cell_type": "markdown",
   "metadata": {},
   "source": [
    "A more complete exemple is given in **ConvNet-MNIST.ipynb**."
   ]
  }
 ],
 "metadata": {
  "kernelspec": {
   "display_name": "Python 3",
   "language": "python",
   "name": "python3"
  },
  "language_info": {
   "codemirror_mode": {
    "name": "ipython",
    "version": 3
   },
   "file_extension": ".py",
   "mimetype": "text/x-python",
   "name": "python",
   "nbconvert_exporter": "python",
   "pygments_lexer": "ipython3",
   "version": "3.5.2"
  }
 },
 "nbformat": 4,
 "nbformat_minor": 2
}
